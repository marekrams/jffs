{
 "cells": [
  {
   "cell_type": "code",
   "execution_count": 2,
   "metadata": {},
   "outputs": [],
   "source": [
    "import os\n",
    "import shutil\n",
    "import numpy as np"
   ]
  },
  {
   "cell_type": "code",
   "execution_count": null,
   "metadata": {},
   "outputs": [],
   "source": [
    "os.remove"
   ]
  },
  {
   "cell_type": "code",
   "execution_count": null,
   "metadata": {},
   "outputs": [
    {
     "name": "stdout",
     "output_type": "stream",
     "text": [
      "['results.npy']\n",
      "['results.npy']\n",
      "['results.npy']\n",
      "['results.npy']\n",
      "['results.npy']\n",
      "['results.npy']\n",
      "['results.npy']\n",
      "['results.npy']\n",
      "['results.npy']\n",
      "['results.npy']\n",
      "['results.npy']\n",
      "['results.npy']\n",
      "['results.npy']\n",
      "['results.npy']\n",
      "['results.npy']\n",
      "['results.npy']\n",
      "['results.npy']\n",
      "['results.npy']\n",
      "['results.npy']\n",
      "['results.npy']\n",
      "['results.npy']\n",
      "['results.npy']\n"
     ]
    }
   ],
   "source": [
    "dd = [(path, dirs, files) for path, dirs, files in os.walk(\"./results_fermions2\")]\n",
    "for path, dirs, files in dd:\n",
    "    if not dirs and 'results.npy' in files:\n",
    "        # for file in files:\n",
    "        #     if \"state_t\" in file:\n",
    "        #         os.remove(os.path.join(path,  file))\n",
    "        print(files)\n",
    "        # print(path, files)\n",
    "        # new_path = os.path.join(path, \"2site\")\n",
    "        # os.mkdir(new_path)\n",
    "        # for f in files:\n",
    "            # shutil.move(os.path.join(path, f), os.path.join(new_path, f))\n",
    "\n"
   ]
  },
  {
   "cell_type": "code",
   "execution_count": null,
   "metadata": {},
   "outputs": [],
   "source": [
    "# dd = [(path, dirs, files) for path, dirs, files in os.walk(\"./results_fermions\")]\n",
    "# for path, dirs, files in dd:\n",
    "#     if not dirs and 'results.npy' in files:\n",
    "#         file = os.path.join(path, \"results.npy\")\n",
    "#         data = np.load(file, allow_pickle=True).item()\n",
    "#         data[\"T01\"] = data[\"T01\"] / 2\n",
    "#         data[\"j0\"] = data[\"j0\"] / 2\n",
    "#         data[\"j1\"] = data[\"j1\"] / 2\n",
    "#         data[\"nu\"] = data[\"nu\"] / 2\n",
    "#         np.save(file, data, allow_pickle=True)"
   ]
  }
 ],
 "metadata": {
  "kernelspec": {
   "display_name": "yastn",
   "language": "python",
   "name": "python3"
  },
  "language_info": {
   "codemirror_mode": {
    "name": "ipython",
    "version": 3
   },
   "file_extension": ".py",
   "mimetype": "text/x-python",
   "name": "python",
   "nbconvert_exporter": "python",
   "pygments_lexer": "ipython3",
   "version": "3.9.18"
  }
 },
 "nbformat": 4,
 "nbformat_minor": 2
}
