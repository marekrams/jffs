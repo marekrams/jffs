{
 "cells": [
  {
   "cell_type": "code",
   "execution_count": 3,
   "metadata": {},
   "outputs": [],
   "source": [
    "import os\n",
    "import shutil\n",
    "import numpy as np"
   ]
  },
  {
   "cell_type": "code",
   "execution_count": 4,
   "metadata": {},
   "outputs": [
    {
     "name": "stdout",
     "output_type": "stream",
     "text": [
      "./results_fermions/g=0.2000/m=0.0637/N=1024/a=0.2500/v=1.0000/Q=1.0000/D0=64/dt=0.0625/D=64/tol=1e-06/2site\n",
      "./results_fermions/g=0.2000/m=0.0637/N=1024/a=0.1250/v=1.0000/Q=1.0000/D0=64/dt=0.0312/D=64/tol=1e-06/2site\n",
      "./results_fermions/g=0.2000/m=0.0637/N=256/a=0.5000/v=1.0000/Q=1.0000/D0=64/dt=0.1250/D=64/tol=1e-06/2site\n",
      "./results_fermions/g=0.2000/m=0.0637/N=256/a=0.5000/v=1.0000/Q=1.0000/D0=32/dt=0.1250/D=32/tol=1e-06/2site\n",
      "./results_fermions/g=0.2000/m=0.0637/N=512/a=0.2500/v=1.0000/Q=1.0000/D0=64/dt=0.0625/D=64/tol=1e-06/2site\n",
      "./results_fermions/g=0.2000/m=0.0200/N=1024/a=0.1250/v=1.0000/Q=1.0000/D0=64/dt=0.0312/D=64/tol=1e-06/2site\n",
      "./results_fermions/g=0.2000/m=0.0200/N=1024/a=0.2500/v=1.0000/Q=1.0000/D0=64/dt=0.0625/D=64/tol=1e-06/2site\n",
      "./results_fermions/g=0.2000/m=0.0200/N=256/a=0.5000/v=1.0000/Q=1.0000/D0=64/dt=0.1250/D=64/tol=1e-06/2site\n",
      "./results_fermions/g=0.2000/m=0.0200/N=256/a=0.5000/v=1.0000/Q=1.0000/D0=32/dt=0.1250/D=32/tol=1e-06/2site\n",
      "./results_fermions/g=0.2000/m=0.0200/N=512/a=0.2500/v=1.0000/Q=1.0000/D0=64/dt=0.0625/D=64/tol=1e-06/2site\n",
      "./results_fermions/g=0.2000/m=0.0000/N=1024/a=0.1250/v=1.0000/Q=1.0000/D0=64/dt=0.0312/D=64/tol=1e-06/2site\n",
      "./results_fermions/g=0.2000/m=0.0000/N=1024/a=0.2500/v=1.0000/Q=1.0000/D0=64/dt=0.0625/D=64/tol=1e-06/2site\n",
      "./results_fermions/g=0.2000/m=0.0000/N=256/a=0.5000/v=1.0000/Q=1.0000/D0=64/dt=0.1250/D=64/tol=1e-06/2site\n",
      "./results_fermions/g=0.2000/m=0.0000/N=256/a=0.5000/v=1.0000/Q=1.0000/D0=32/dt=0.1250/D=32/tol=1e-06/2site\n",
      "./results_fermions/g=0.2000/m=0.0000/N=512/a=0.2500/v=1.0000/Q=1.0000/D0=64/dt=0.0625/D=64/tol=1e-06/2site\n",
      "./results_fermions/g=0.2000/m=0.2000/N=256/a=0.5000/v=1.0000/Q=1.0000/D0=64/dt=0.1250/D=64/tol=1e-06/2site\n",
      "./results_fermions/g=0.2000/m=0.2000/N=256/a=0.5000/v=1.0000/Q=1.0000/D0=32/dt=0.1250/D=32/tol=1e-06/2site\n",
      "./results_fermions/g=0.2000/m=0.2000/N=512/a=0.2500/v=1.0000/Q=1.0000/D0=64/dt=0.0625/D=64/tol=1e-06/2site\n",
      "./results_fermions/g=0.2000/m=0.2000/N=1024/a=0.1250/v=1.0000/Q=1.0000/D0=64/dt=0.0312/D=64/tol=1e-06/2site\n",
      "./results_fermions/g=0.2000/m=0.2000/N=1024/a=0.2500/v=1.0000/Q=1.0000/D0=64/dt=0.0625/D=64/tol=1e-06/2site\n",
      "./results_fermions/g=0.2000/m=0.1000/N=256/a=0.2500/v=1.0000/Q=1.0000/D0=64/dt=0.0312/D=64/tol=1e-06/2site\n",
      "./results_fermions/g=0.2000/m=0.1000/N=512/a=0.2500/v=1.0000/Q=1.0000/D0=64/dt=0.0312/D=64/tol=1e-06/2site\n",
      "./results_fermions/g=0.2000/m=0.0400/N=256/a=0.2500/v=1.0000/Q=1.0000/D0=64/dt=0.0312/D=64/tol=1e-06/2site\n",
      "./results_fermions/g=0.2000/m=0.0400/N=512/a=0.2500/v=1.0000/Q=1.0000/D0=64/dt=0.0312/D=64/tol=1e-06/2site\n",
      "./results_fermions/g=1.0000/m=0.1000/N=256/a=0.2500/v=1.0000/Q=1.0000/D0=64/dt=0.0312/D=64/tol=1e-06/2site\n",
      "./results_fermions/g=1.0000/m=0.3183/N=256/a=0.2500/v=1.0000/Q=1.0000/D0=64/dt=0.0312/D=64/tol=1e-06/2site\n",
      "./results_fermions/g=1.0000/m=0.0000/N=256/a=0.2500/v=1.0000/Q=1.0000/D0=64/dt=0.0312/D=64/tol=1e-06/2site\n",
      "./results_fermions/g=1.0000/m=1.0000/N=256/a=0.2500/v=1.0000/Q=1.0000/D0=64/dt=0.0312/D=64/tol=1e-06/2site\n",
      "./results_fermions/g=0.5000/m=0.1000/N=512/a=0.1250/v=1.0000/Q=1.0000/D0=64/dt=0.0312/D=64/tol=1e-06/2site\n",
      "./results_fermions/g=0.5000/m=0.1000/N=256/a=0.2500/v=1.0000/Q=1.0000/D0=64/dt=0.0312/D=64/tol=1e-06/2site\n",
      "./results_fermions/g=0.5000/m=0.2500/N=256/a=0.2500/v=1.0000/Q=1.0000/D0=64/dt=0.0312/D=64/tol=1e-06/2site\n",
      "./results_fermions/g=0.5000/m=0.2500/N=512/a=0.1250/v=1.0000/Q=1.0000/D0=64/dt=0.0312/D=64/tol=1e-06/2site\n",
      "./results_fermions/g=0.5000/m=0.0000/N=512/a=0.1250/v=1.0000/Q=1.0000/D0=64/dt=0.0312/D=64/tol=1e-06/2site\n",
      "./results_fermions/g=0.5000/m=0.0000/N=256/a=0.2500/v=1.0000/Q=1.0000/D0=64/dt=0.0312/D=64/tol=1e-06/2site\n",
      "./results_fermions/g=0.5000/m=0.1592/N=512/a=0.1250/v=1.0000/Q=1.0000/D0=64/dt=0.0312/D=64/tol=1e-06/2site\n",
      "./results_fermions/g=0.5000/m=0.1592/N=256/a=0.2500/v=1.0000/Q=1.0000/D0=64/dt=0.0312/D=64/tol=1e-06/2site\n"
     ]
    }
   ],
   "source": [
    "dd = [(path, dirs, files) for path, dirs, files in os.walk(\"./results_fermions\")]\n",
    "for path, dirs, files in dd:\n",
    "    if not dirs and 'results.npy' in files:\n",
    "        print(path)\n",
    "        # print(path, files)\n",
    "        # new_path = os.path.join(path, \"2site\")\n",
    "        # os.mkdir(new_path)\n",
    "        # for f in files:\n",
    "            # shutil.move(os.path.join(path, f), os.path.join(new_path, f))\n",
    "\n"
   ]
  },
  {
   "cell_type": "code",
   "execution_count": null,
   "metadata": {},
   "outputs": [],
   "source": [
    "# dd = [(path, dirs, files) for path, dirs, files in os.walk(\"./results_fermions\")]\n",
    "# for path, dirs, files in dd:\n",
    "#     if not dirs and 'results.npy' in files:\n",
    "#         file = os.path.join(path, \"results.npy\")\n",
    "#         data = np.load(file, allow_pickle=True).item()\n",
    "#         data[\"T01\"] = data[\"T01\"] / 2\n",
    "#         data[\"j0\"] = data[\"j0\"] / 2\n",
    "#         data[\"j1\"] = data[\"j1\"] / 2\n",
    "#         data[\"nu\"] = data[\"nu\"] / 2\n",
    "#         np.save(file, data, allow_pickle=True)"
   ]
  }
 ],
 "metadata": {
  "kernelspec": {
   "display_name": "yastn",
   "language": "python",
   "name": "python3"
  },
  "language_info": {
   "codemirror_mode": {
    "name": "ipython",
    "version": 3
   },
   "file_extension": ".py",
   "mimetype": "text/x-python",
   "name": "python",
   "nbconvert_exporter": "python",
   "pygments_lexer": "ipython3",
   "version": "3.9.18"
  }
 },
 "nbformat": 4,
 "nbformat_minor": 2
}
