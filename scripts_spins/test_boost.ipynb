{
 "cells": [
  {
   "cell_type": "code",
   "execution_count": 1,
   "metadata": {},
   "outputs": [],
   "source": [
    "import yastn\n",
    "import yastn.tn.mps as mps\n",
    "import matplotlib.pyplot as plt\n",
    "import numpy as np\n",
    "from operators import axial_vector_source, boost"
   ]
  },
  {
   "cell_type": "code",
   "execution_count": 2,
   "metadata": {},
   "outputs": [],
   "source": [
    "ops = yastn.operators.Spin12(sym='U1')  # \"U1\" enforces sum(Sz) conservation\n",
    "a = 1\n",
    "N = 16\n",
    "\n",
    "PP = axial_vector_source(N=N, P=1, a=a, ops=ops)"
   ]
  },
  {
   "cell_type": "code",
   "execution_count": 3,
   "metadata": {},
   "outputs": [
    {
     "name": "stdout",
     "output_type": "stream",
     "text": [
      "(0.15564698886547212+0.17829505516016458j)\n",
      "(0.1556469888654717-0.1782950551601648j)\n",
      "(10.26221600724351-1.9984014443252818e-15j)\n",
      "(10.364402267018503-4.218847493575595e-15j)\n"
     ]
    }
   ],
   "source": [
    "# making sure it is hermitian\n",
    "psi0 = mps.random_mps(PP, D_total=32, n=0, dtype='complex128')\n",
    "psi1 = mps.random_mps(PP, D_total=32, n=0, dtype='complex128')\n",
    "psi0 = psi0.canonize_(to='first')\n",
    "psi1 = psi1.canonize_(to='first')\n",
    "\n",
    "print(mps.vdot(psi1, PP, psi0))\n",
    "print(mps.vdot(psi0, PP, psi1))\n",
    "print(mps.vdot(psi0, PP, psi0))\n",
    "print(mps.vdot(psi1, PP, psi1))\n"
   ]
  },
  {
   "cell_type": "code",
   "execution_count": 4,
   "metadata": {},
   "outputs": [],
   "source": [
    "def chi(P, m, g):\n",
    "    ms = g / np.sqrt(np.pi)\n",
    "    mmu = ms * np.sqrt(1 + 2 * 1.78107241799019 * (m / ms))\n",
    "    EP = np.sqrt(P * P + mmu * mmu)\n",
    "    return 0.5 * np.log((EP + P) / (EP - P))"
   ]
  },
  {
   "cell_type": "code",
   "execution_count": 5,
   "metadata": {},
   "outputs": [
    {
     "data": {
      "text/plain": [
       "1.781072417990193"
      ]
     },
     "execution_count": 5,
     "metadata": {},
     "output_type": "execute_result"
    }
   ],
   "source": [
    "import numpy as np\n",
    "np.exp(0.57721566490153)"
   ]
  },
  {
   "cell_type": "code",
   "execution_count": 6,
   "metadata": {},
   "outputs": [],
   "source": [
    "ops = yastn.operators.Spin12(sym='U1')  # \"U1\" enforces sum(Sz) conservation\n",
    "\n"
   ]
  },
  {
   "cell_type": "code",
   "execution_count": 7,
   "metadata": {},
   "outputs": [],
   "source": [
    "a = 0.25\n",
    "N = 8\n",
    "m = 0.1\n",
    "g = 0.2\n",
    "\n",
    "PP0 = axial_vector_source(N=N, P=0, a=a, ops=ops)\n",
    "PP1 = axial_vector_source(N=N, P=0.2, a=a, ops=ops)\n",
    "\n",
    "K = boost(N, a, g, m, 0, ops)\n",
    "K = K[0] + K[1]"
   ]
  },
  {
   "cell_type": "code",
   "execution_count": 8,
   "metadata": {},
   "outputs": [
    {
     "data": {
      "text/plain": [
       "(1, 9, 16, 16, 16, 16, 16, 7, 1)"
      ]
     },
     "execution_count": 8,
     "metadata": {},
     "output_type": "execute_result"
    }
   ],
   "source": [
    "PP0.get_bond_dimensions()"
   ]
  },
  {
   "cell_type": "code",
   "execution_count": 9,
   "metadata": {},
   "outputs": [
    {
     "name": "stdout",
     "output_type": "stream",
     "text": [
      "0.7859063689108086\n"
     ]
    }
   ],
   "source": [
    "TT = chi(P=0.2, m=m, g=g)\n",
    "print(TT)"
   ]
  },
  {
   "cell_type": "code",
   "execution_count": 10,
   "metadata": {},
   "outputs": [
    {
     "name": "stderr",
     "output_type": "stream",
     "text": [
      "TDVP...: 100%|██████████| 8/8 [00:07<00:00,  1.03it/s]\n"
     ]
    },
    {
     "data": {
      "text/plain": [
       "TDVP_out(ti=0, tf=0.7859063689108085, time_independent=True, dt=0.09823829611385107, steps=8)"
      ]
     },
     "execution_count": 10,
     "metadata": {},
     "output_type": "execute_result"
    }
   ],
   "source": [
    "gen = mps.tdvp_(PP0, [-K, K.on_bra()], times=(0,  TT), progressbar=True, normalize=False)\n",
    "next(gen)"
   ]
  },
  {
   "cell_type": "code",
   "execution_count": 11,
   "metadata": {},
   "outputs": [
    {
     "data": {
      "text/plain": [
       "1282.7805471662437"
      ]
     },
     "execution_count": 11,
     "metadata": {},
     "output_type": "execute_result"
    }
   ],
   "source": [
    "(PP0 - PP1).norm()"
   ]
  }
 ],
 "metadata": {
  "kernelspec": {
   "display_name": "pt",
   "language": "python",
   "name": "python3"
  },
  "language_info": {
   "codemirror_mode": {
    "name": "ipython",
    "version": 3
   },
   "file_extension": ".py",
   "mimetype": "text/x-python",
   "name": "python",
   "nbconvert_exporter": "python",
   "pygments_lexer": "ipython3",
   "version": "3.11.5"
  }
 },
 "nbformat": 4,
 "nbformat_minor": 2
}
