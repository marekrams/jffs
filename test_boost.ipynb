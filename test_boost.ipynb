{
 "cells": [
  {
   "cell_type": "code",
   "execution_count": 8,
   "metadata": {},
   "outputs": [],
   "source": [
    "import yastn\n",
    "import yastn.tn.mps as mps\n",
    "import matplotlib.pyplot as plt\n",
    "import numpy as np\n",
    "from operators import axial_vector_source, boost"
   ]
  },
  {
   "cell_type": "code",
   "execution_count": 2,
   "metadata": {},
   "outputs": [],
   "source": [
    "ops = yastn.operators.Spin12(sym='U1')  # \"U1\" enforces sum(Sz) conservation\n",
    "a = 1\n",
    "N = 16\n",
    "\n",
    "PP = axial_vector_source(N=N, P=1, a=a, ops=ops)"
   ]
  },
  {
   "cell_type": "code",
   "execution_count": 3,
   "metadata": {},
   "outputs": [
    {
     "name": "stdout",
     "output_type": "stream",
     "text": [
      "(-0.1480042164861429-0.32982208258668344j)\n",
      "(-0.14800421648614243+0.3298220825866825j)\n",
      "(11.3073726867261+1.4432899320127035e-15j)\n",
      "(10.58868335730568-1.3322676295501878e-15j)\n"
     ]
    }
   ],
   "source": [
    "# making sure it is hermitian\n",
    "psi0 = mps.random_mps(PP, D_total=32, n=0, dtype='complex128')\n",
    "psi1 = mps.random_mps(PP, D_total=32, n=0, dtype='complex128')\n",
    "psi0 = psi0.canonize_(to='first')\n",
    "psi1 = psi1.canonize_(to='first')\n",
    "\n",
    "print(mps.vdot(psi1, PP, psi0))\n",
    "print(mps.vdot(psi0, PP, psi1))\n",
    "print(mps.vdot(psi0, PP, psi0))\n",
    "print(mps.vdot(psi1, PP, psi1))\n"
   ]
  },
  {
   "cell_type": "code",
   "execution_count": 4,
   "metadata": {},
   "outputs": [],
   "source": [
    "def chi(P, m, g):\n",
    "    ms = g / np.sqrt(np.pi)\n",
    "    mmu = ms * np.sqrt(1 + 2 * 1.78107241799019 * (m / ms))\n",
    "    EP = np.sqrt(P * P + mmu * mmu)\n",
    "    return 0.5 * np.log((EP + P) / (EP - P))"
   ]
  },
  {
   "cell_type": "code",
   "execution_count": 1,
   "metadata": {},
   "outputs": [
    {
     "data": {
      "text/plain": [
       "1.781072417990193"
      ]
     },
     "execution_count": 1,
     "metadata": {},
     "output_type": "execute_result"
    }
   ],
   "source": [
    "import numpy as np\n",
    "np.exp(0.57721566490153)"
   ]
  },
  {
   "cell_type": "code",
   "execution_count": 9,
   "metadata": {},
   "outputs": [],
   "source": [
    "ops = yastn.operators.Spin12(sym='U1')  # \"U1\" enforces sum(Sz) conservation\n",
    "\n"
   ]
  },
  {
   "cell_type": "code",
   "execution_count": 46,
   "metadata": {},
   "outputs": [],
   "source": [
    "a = 0.25\n",
    "N = 8\n",
    "m = 0.1\n",
    "g = 0.2\n",
    "\n",
    "PP0 = axial_vector_source(N=N, P=0, a=a, ops=ops)\n",
    "PP1 = axial_vector_source(N=N, P=0.2, a=a, ops=ops)\n",
    "\n",
    "K = boost(N, a, g, m, 0, ops)\n",
    "K = K[0] + K[1]"
   ]
  },
  {
   "cell_type": "code",
   "execution_count": 47,
   "metadata": {},
   "outputs": [
    {
     "data": {
      "text/plain": [
       "(1, 9, 16, 16, 16, 16, 16, 7, 1)"
      ]
     },
     "execution_count": 47,
     "metadata": {},
     "output_type": "execute_result"
    }
   ],
   "source": [
    "PP0.get_bond_dimensions()"
   ]
  },
  {
   "cell_type": "code",
   "execution_count": 48,
   "metadata": {},
   "outputs": [
    {
     "name": "stdout",
     "output_type": "stream",
     "text": [
      "0.7859063689108086\n"
     ]
    }
   ],
   "source": [
    "TT = chi(P=0.2, m=m, g=g)\n",
    "print(TT)"
   ]
  },
  {
   "cell_type": "code",
   "execution_count": 49,
   "metadata": {},
   "outputs": [
    {
     "name": "stderr",
     "output_type": "stream",
     "text": [
      "TDVP...:   0%|          | 0/16 [00:00<?, ?it/s]"
     ]
    },
    {
     "name": "stderr",
     "output_type": "stream",
     "text": [
      "TDVP...: 100%|██████████| 16/16 [00:06<00:00,  2.36it/s]\n"
     ]
    },
    {
     "data": {
      "text/plain": [
       "TDVP_out(ti=0, tf=1.571812737821617, time_independent=True, dt=0.09823829611385107, steps=16)"
      ]
     },
     "execution_count": 49,
     "metadata": {},
     "output_type": "execute_result"
    }
   ],
   "source": [
    "gen = mps.tdvp_(PP0, [-K, K.on_bra()], times=(0,  TT), progressbar=True, normalize=False)\n",
    "next(gen)"
   ]
  },
  {
   "cell_type": "code",
   "execution_count": 50,
   "metadata": {},
   "outputs": [
    {
     "data": {
      "text/plain": [
       "1380.7002246507664"
      ]
     },
     "execution_count": 50,
     "metadata": {},
     "output_type": "execute_result"
    }
   ],
   "source": [
    "(PP0 - PP1).norm()"
   ]
  }
 ],
 "metadata": {
  "kernelspec": {
   "display_name": "yastn",
   "language": "python",
   "name": "python3"
  },
  "language_info": {
   "codemirror_mode": {
    "name": "ipython",
    "version": 3
   },
   "file_extension": ".py",
   "mimetype": "text/x-python",
   "name": "python",
   "nbconvert_exporter": "python",
   "pygments_lexer": "ipython3",
   "version": "3.9.18"
  }
 },
 "nbformat": 4,
 "nbformat_minor": 2
}
