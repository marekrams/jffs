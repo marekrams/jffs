{
 "cells": [
  {
   "cell_type": "code",
   "execution_count": 1,
   "metadata": {},
   "outputs": [],
   "source": [
    "import yastn\n",
    "import yastn.tn.mps as mps\n",
    "import matplotlib.pyplot as plt\n",
    "import numpy as np\n",
    "from operators import axial_vector_source"
   ]
  },
  {
   "cell_type": "code",
   "execution_count": 2,
   "metadata": {},
   "outputs": [],
   "source": [
    "ops = yastn.operators.Spin12(sym='U1')  # \"U1\" enforces sum(Sz) conservation\n",
    "a = 1\n",
    "N = 16\n",
    "\n",
    "PP = axial_vector_source(N=N, P=1, a=a, ops=ops)"
   ]
  },
  {
   "cell_type": "code",
   "execution_count": 3,
   "metadata": {},
   "outputs": [
    {
     "name": "stdout",
     "output_type": "stream",
     "text": [
      "(-0.1480042164861429-0.32982208258668344j)\n",
      "(-0.14800421648614243+0.3298220825866825j)\n",
      "(11.3073726867261+1.4432899320127035e-15j)\n",
      "(10.58868335730568-1.3322676295501878e-15j)\n"
     ]
    }
   ],
   "source": [
    "# making sure it is hermitian\n",
    "psi0 = mps.random_mps(PP, D_total=32, n=0, dtype='complex128')\n",
    "psi1 = mps.random_mps(PP, D_total=32, n=0, dtype='complex128')\n",
    "psi0 = psi0.canonize_(to='first')\n",
    "psi1 = psi1.canonize_(to='first')\n",
    "\n",
    "print(mps.vdot(psi1, PP, psi0))\n",
    "print(mps.vdot(psi0, PP, psi1))\n",
    "print(mps.vdot(psi0, PP, psi0))\n",
    "print(mps.vdot(psi1, PP, psi1))\n"
   ]
  }
 ],
 "metadata": {
  "kernelspec": {
   "display_name": "yastn",
   "language": "python",
   "name": "python3"
  },
  "language_info": {
   "codemirror_mode": {
    "name": "ipython",
    "version": 3
   },
   "file_extension": ".py",
   "mimetype": "text/x-python",
   "name": "python",
   "nbconvert_exporter": "python",
   "pygments_lexer": "ipython3",
   "version": "3.9.18"
  }
 },
 "nbformat": 4,
 "nbformat_minor": 2
}
